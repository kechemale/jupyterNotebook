{
 "cells": [
  {
   "cell_type": "code",
   "execution_count": 80,
   "id": "381f0188-fb6e-48c6-82a9-c99d317f8923",
   "metadata": {},
   "outputs": [
    {
     "name": "stdout",
     "output_type": "stream",
     "text": [
      "Defaulting to user installation because normal site-packages is not writeable\n",
      "Collecting bs4\n",
      "  Downloading bs4-0.0.2-py2.py3-none-any.whl (1.2 kB)\n",
      "Requirement already satisfied: beautifulsoup4 in ./.local/lib/python3.10/site-packages (from bs4) (4.12.3)\n",
      "Requirement already satisfied: soupsieve>1.2 in ./.local/lib/python3.10/site-packages (from beautifulsoup4->bs4) (2.5)\n",
      "Installing collected packages: bs4\n",
      "Successfully installed bs4-0.0.2\n"
     ]
    }
   ],
   "source": [
    "!pip install bs4"
   ]
  },
  {
   "cell_type": "code",
   "execution_count": 167,
   "id": "ad90aea5-94a6-40d2-a68a-357cbafdf5f3",
   "metadata": {},
   "outputs": [],
   "source": [
    "import yfinance as yf\n",
    "import pandas as pd\n",
    "import requests\n",
    "from bs4 import BeautifulSoup\n",
    "import plotly.graph_objects as go\n",
    "from plotly.subplots import make_subplots\n",
    "from IPython.display import display"
   ]
  },
  {
   "cell_type": "code",
   "execution_count": 168,
   "id": "83b58323-7fc0-49a3-9d83-b6f5048d2a6a",
   "metadata": {},
   "outputs": [],
   "source": [
    "def make_graph(stock_data, revenue_data, stock):\n",
    "    fig = make_subplots(rows=2, cols=1, shared_xaxes=True, subplot_titles=(\"Historical Share Price\", \"Historical Revenue\"), vertical_spacing = .3)\n",
    "    stock_data_specific = stock_data[stock_data.Date <= '2021--06-14']\n",
    "    revenue_data_specific = revenue_data[revenue_data.Date <= '2021-04-30']\n",
    "    fig.add_trace(go.Scatter(x=pd.to_datetime(stock_data_specific.Date, infer_datetime_format=True), y=stock_data_specific.Close.astype(\"float\"), name=\"Share Price\"), row=1, col=1)\n",
    "    fig.add_trace(go.Scatter(x=pd.to_datetime(revenue_data_specific.Date, infer_datetime_format=True), y=revenue_data_specific.Revenue.astype(\"float\"), name=\"Revenue\"), row=2, col=1)\n",
    "    fig.update_xaxes(title_text=\"Date\", row=1, col=1)\n",
    "    fig.update_xaxes(title_text=\"Date\", row=2, col=1)\n",
    "    fig.update_yaxes(title_text=\"Price ($US)\", row=1, col=1)\n",
    "    fig.update_yaxes(title_text=\"Revenue ($US Millions)\", row=2, col=1)\n",
    "    fig.update_layout(showlegend=False,\n",
    "    height=900,\n",
    "    title=stock,\n",
    "    xaxis_rangeslider_visible=True)\n",
    "    fig.show()"
   ]
  },
  {
   "cell_type": "markdown",
   "id": "dfba36f2-5a40-47c7-9f3a-c0f0fd732f2d",
   "metadata": {},
   "source": [
    "## Question 1 - Extracting Tesla Stock Data Using yfinance "
   ]
  },
  {
   "cell_type": "code",
   "execution_count": 82,
   "id": "c6089491-4292-44d0-a7f7-6c229f4dda32",
   "metadata": {},
   "outputs": [],
   "source": [
    "#Reset the index, save, and display the first five rows of the tesla_data dataframe using the head function.\n",
    "tesla = yf.Ticker(\"TSLA\")"
   ]
  },
  {
   "cell_type": "code",
   "execution_count": 83,
   "id": "08daca0f-6b1e-4a50-9d9a-c702a82cd140",
   "metadata": {},
   "outputs": [
    {
     "name": "stderr",
     "output_type": "stream",
     "text": [
      "/home/negash/.local/lib/python3.10/site-packages/yfinance/utils.py:631: FutureWarning: The 'unit' keyword in TimedeltaIndex construction is deprecated and will be removed in a future version. Use pd.to_timedelta instead.\n",
      "  df.index += _pd.TimedeltaIndex(dst_error_hours, 'h')\n"
     ]
    },
    {
     "data": {
      "text/html": [
       "<div>\n",
       "<style scoped>\n",
       "    .dataframe tbody tr th:only-of-type {\n",
       "        vertical-align: middle;\n",
       "    }\n",
       "\n",
       "    .dataframe tbody tr th {\n",
       "        vertical-align: top;\n",
       "    }\n",
       "\n",
       "    .dataframe thead th {\n",
       "        text-align: right;\n",
       "    }\n",
       "</style>\n",
       "<table border=\"1\" class=\"dataframe\">\n",
       "  <thead>\n",
       "    <tr style=\"text-align: right;\">\n",
       "      <th></th>\n",
       "      <th>Date</th>\n",
       "      <th>Open</th>\n",
       "      <th>High</th>\n",
       "      <th>Low</th>\n",
       "      <th>Close</th>\n",
       "      <th>Volume</th>\n",
       "      <th>Dividends</th>\n",
       "      <th>Stock Splits</th>\n",
       "    </tr>\n",
       "  </thead>\n",
       "  <tbody>\n",
       "    <tr>\n",
       "      <th>0</th>\n",
       "      <td>2023-03-29 00:00:00-04:00</td>\n",
       "      <td>193.130005</td>\n",
       "      <td>195.289993</td>\n",
       "      <td>189.440002</td>\n",
       "      <td>193.880005</td>\n",
       "      <td>123660000</td>\n",
       "      <td>0.0</td>\n",
       "      <td>0.0</td>\n",
       "    </tr>\n",
       "    <tr>\n",
       "      <th>1</th>\n",
       "      <td>2023-03-30 00:00:00-04:00</td>\n",
       "      <td>195.580002</td>\n",
       "      <td>197.330002</td>\n",
       "      <td>194.419998</td>\n",
       "      <td>195.279999</td>\n",
       "      <td>110252200</td>\n",
       "      <td>0.0</td>\n",
       "      <td>0.0</td>\n",
       "    </tr>\n",
       "    <tr>\n",
       "      <th>2</th>\n",
       "      <td>2023-03-31 00:00:00-04:00</td>\n",
       "      <td>197.529999</td>\n",
       "      <td>207.789993</td>\n",
       "      <td>197.199997</td>\n",
       "      <td>207.460007</td>\n",
       "      <td>170222100</td>\n",
       "      <td>0.0</td>\n",
       "      <td>0.0</td>\n",
       "    </tr>\n",
       "    <tr>\n",
       "      <th>3</th>\n",
       "      <td>2023-04-03 00:00:00-04:00</td>\n",
       "      <td>199.910004</td>\n",
       "      <td>202.690002</td>\n",
       "      <td>192.199997</td>\n",
       "      <td>194.770004</td>\n",
       "      <td>169545900</td>\n",
       "      <td>0.0</td>\n",
       "      <td>0.0</td>\n",
       "    </tr>\n",
       "    <tr>\n",
       "      <th>4</th>\n",
       "      <td>2023-04-04 00:00:00-04:00</td>\n",
       "      <td>197.320007</td>\n",
       "      <td>198.740005</td>\n",
       "      <td>190.320007</td>\n",
       "      <td>192.580002</td>\n",
       "      <td>126463800</td>\n",
       "      <td>0.0</td>\n",
       "      <td>0.0</td>\n",
       "    </tr>\n",
       "  </tbody>\n",
       "</table>\n",
       "</div>"
      ],
      "text/plain": [
       "                       Date        Open        High         Low       Close  \\\n",
       "0 2023-03-29 00:00:00-04:00  193.130005  195.289993  189.440002  193.880005   \n",
       "1 2023-03-30 00:00:00-04:00  195.580002  197.330002  194.419998  195.279999   \n",
       "2 2023-03-31 00:00:00-04:00  197.529999  207.789993  197.199997  207.460007   \n",
       "3 2023-04-03 00:00:00-04:00  199.910004  202.690002  192.199997  194.770004   \n",
       "4 2023-04-04 00:00:00-04:00  197.320007  198.740005  190.320007  192.580002   \n",
       "\n",
       "      Volume  Dividends  Stock Splits  \n",
       "0  123660000        0.0           0.0  \n",
       "1  110252200        0.0           0.0  \n",
       "2  170222100        0.0           0.0  \n",
       "3  169545900        0.0           0.0  \n",
       "4  126463800        0.0           0.0  "
      ]
     },
     "execution_count": 83,
     "metadata": {},
     "output_type": "execute_result"
    }
   ],
   "source": [
    "tesla_data = tesla.history(period=\"1y\")\n",
    "tesla_data = tesla_data.reset_index()\n",
    "tesla_data.head()"
   ]
  },
  {
   "cell_type": "markdown",
   "id": "6a61d0b9-031e-4582-bc06-3f118bf4d89d",
   "metadata": {},
   "source": [
    "## Question 2 - Extracting Tesla Revenue Data Using Webscraping\n"
   ]
  },
  {
   "cell_type": "code",
   "execution_count": 163,
   "id": "2586e356-8e60-4b9d-8997-ef5523e06a78",
   "metadata": {},
   "outputs": [],
   "source": [
    "url = \"https://cf-courses-data.s3.us.cloud-object-storage.appdomain.cloud/IBMDeveloperSkillsNetwork-PY0220EN-SkillsNetwork/labs/project/revenue.htm\"\n",
    "html_data  = requests.get(url).text"
   ]
  },
  {
   "cell_type": "code",
   "execution_count": 164,
   "id": "ba6f7572-533b-4286-b2b0-08bc8b0fcdd7",
   "metadata": {},
   "outputs": [],
   "source": [
    "soup = BeautifulSoup(html_data, 'html5lib')"
   ]
  },
  {
   "cell_type": "code",
   "execution_count": 153,
   "id": "76ef54c4-42b7-4750-baae-cc36b9bfd0f4",
   "metadata": {},
   "outputs": [],
   "source": [
    "dic1 = {}\n",
    "#We extract the desired data from the 'soup' object and save it in the dataframe\n",
    "for row in soup.find(\"tbody\").find_all('tr'):\n",
    "    col = row.find_all(\"td\")\n",
    "    date = col[0].text\n",
    "    revenue = col[1].text\n",
    "    dic1[date]=revenue"
   ]
  },
  {
   "cell_type": "code",
   "execution_count": 154,
   "id": "92359e52-9acc-41f6-915d-ade9bd09732d",
   "metadata": {},
   "outputs": [],
   "source": [
    "dict2 = {\"Date\": list(dic1.keys()), \"Revenue\": list(dic1.values())}"
   ]
  },
  {
   "cell_type": "code",
   "execution_count": 155,
   "id": "a7881d18-f611-45b1-8ed9-ff2d1a85eba7",
   "metadata": {},
   "outputs": [],
   "source": [
    "tesla_revenue = pd.DataFrame.from_dict(dict2)"
   ]
  },
  {
   "cell_type": "code",
   "execution_count": 156,
   "id": "c663df23-91ae-4a88-9e47-3cd674920b14",
   "metadata": {},
   "outputs": [
    {
     "data": {
      "text/html": [
       "<div>\n",
       "<style scoped>\n",
       "    .dataframe tbody tr th:only-of-type {\n",
       "        vertical-align: middle;\n",
       "    }\n",
       "\n",
       "    .dataframe tbody tr th {\n",
       "        vertical-align: top;\n",
       "    }\n",
       "\n",
       "    .dataframe thead th {\n",
       "        text-align: right;\n",
       "    }\n",
       "</style>\n",
       "<table border=\"1\" class=\"dataframe\">\n",
       "  <thead>\n",
       "    <tr style=\"text-align: right;\">\n",
       "      <th></th>\n",
       "      <th>Date</th>\n",
       "      <th>Revenue</th>\n",
       "    </tr>\n",
       "  </thead>\n",
       "  <tbody>\n",
       "    <tr>\n",
       "      <th>8</th>\n",
       "      <td>2013</td>\n",
       "      <td>$2,013</td>\n",
       "    </tr>\n",
       "    <tr>\n",
       "      <th>9</th>\n",
       "      <td>2012</td>\n",
       "      <td>$413</td>\n",
       "    </tr>\n",
       "    <tr>\n",
       "      <th>10</th>\n",
       "      <td>2011</td>\n",
       "      <td>$204</td>\n",
       "    </tr>\n",
       "    <tr>\n",
       "      <th>11</th>\n",
       "      <td>2010</td>\n",
       "      <td>$117</td>\n",
       "    </tr>\n",
       "    <tr>\n",
       "      <th>12</th>\n",
       "      <td>2009</td>\n",
       "      <td>$112</td>\n",
       "    </tr>\n",
       "  </tbody>\n",
       "</table>\n",
       "</div>"
      ],
      "text/plain": [
       "    Date Revenue\n",
       "8   2013  $2,013\n",
       "9   2012    $413\n",
       "10  2011    $204\n",
       "11  2010    $117\n",
       "12  2009    $112"
      ]
     },
     "execution_count": 156,
     "metadata": {},
     "output_type": "execute_result"
    }
   ],
   "source": [
    "tesla_revenue.tail()"
   ]
  },
  {
   "cell_type": "markdown",
   "id": "7992a436-7305-4cbd-83ac-822b980fb4d8",
   "metadata": {},
   "source": [
    "## Question 3 - Extracting GameStop Stock Data Using yfinance\n"
   ]
  },
  {
   "cell_type": "code",
   "execution_count": 88,
   "id": "90c36f9c-fa5f-4c6b-8c5f-4c3be25d92df",
   "metadata": {},
   "outputs": [],
   "source": [
    "game_stop = yf.Ticker(\"GME\")"
   ]
  },
  {
   "cell_type": "code",
   "execution_count": 89,
   "id": "4ff2348e-f615-43a7-96d5-90d90e5754aa",
   "metadata": {},
   "outputs": [
    {
     "name": "stderr",
     "output_type": "stream",
     "text": [
      "/home/negash/.local/lib/python3.10/site-packages/yfinance/utils.py:631: FutureWarning: The 'unit' keyword in TimedeltaIndex construction is deprecated and will be removed in a future version. Use pd.to_timedelta instead.\n",
      "  df.index += _pd.TimedeltaIndex(dst_error_hours, 'h')\n"
     ]
    }
   ],
   "source": [
    "gme_data = game_stop.history(period=\"1y\")"
   ]
  },
  {
   "cell_type": "code",
   "execution_count": 90,
   "id": "dcca3ff6-1e35-4491-809b-36526f38d539",
   "metadata": {},
   "outputs": [
    {
     "data": {
      "text/html": [
       "<div>\n",
       "<style scoped>\n",
       "    .dataframe tbody tr th:only-of-type {\n",
       "        vertical-align: middle;\n",
       "    }\n",
       "\n",
       "    .dataframe tbody tr th {\n",
       "        vertical-align: top;\n",
       "    }\n",
       "\n",
       "    .dataframe thead th {\n",
       "        text-align: right;\n",
       "    }\n",
       "</style>\n",
       "<table border=\"1\" class=\"dataframe\">\n",
       "  <thead>\n",
       "    <tr style=\"text-align: right;\">\n",
       "      <th></th>\n",
       "      <th>Date</th>\n",
       "      <th>Open</th>\n",
       "      <th>High</th>\n",
       "      <th>Low</th>\n",
       "      <th>Close</th>\n",
       "      <th>Volume</th>\n",
       "      <th>Dividends</th>\n",
       "      <th>Stock Splits</th>\n",
       "    </tr>\n",
       "  </thead>\n",
       "  <tbody>\n",
       "    <tr>\n",
       "      <th>0</th>\n",
       "      <td>2023-03-29 00:00:00-04:00</td>\n",
       "      <td>23.080000</td>\n",
       "      <td>23.700001</td>\n",
       "      <td>22.219999</td>\n",
       "      <td>22.459999</td>\n",
       "      <td>4161400</td>\n",
       "      <td>0.0</td>\n",
       "      <td>0.0</td>\n",
       "    </tr>\n",
       "    <tr>\n",
       "      <th>1</th>\n",
       "      <td>2023-03-30 00:00:00-04:00</td>\n",
       "      <td>22.600000</td>\n",
       "      <td>22.830000</td>\n",
       "      <td>22.110001</td>\n",
       "      <td>22.500000</td>\n",
       "      <td>3477600</td>\n",
       "      <td>0.0</td>\n",
       "      <td>0.0</td>\n",
       "    </tr>\n",
       "    <tr>\n",
       "      <th>2</th>\n",
       "      <td>2023-03-31 00:00:00-04:00</td>\n",
       "      <td>22.350000</td>\n",
       "      <td>23.070000</td>\n",
       "      <td>22.150000</td>\n",
       "      <td>23.020000</td>\n",
       "      <td>3880300</td>\n",
       "      <td>0.0</td>\n",
       "      <td>0.0</td>\n",
       "    </tr>\n",
       "    <tr>\n",
       "      <th>3</th>\n",
       "      <td>2023-04-03 00:00:00-04:00</td>\n",
       "      <td>22.940001</td>\n",
       "      <td>23.850000</td>\n",
       "      <td>22.660000</td>\n",
       "      <td>23.170000</td>\n",
       "      <td>4274500</td>\n",
       "      <td>0.0</td>\n",
       "      <td>0.0</td>\n",
       "    </tr>\n",
       "    <tr>\n",
       "      <th>4</th>\n",
       "      <td>2023-04-04 00:00:00-04:00</td>\n",
       "      <td>22.750000</td>\n",
       "      <td>23.139999</td>\n",
       "      <td>22.090000</td>\n",
       "      <td>22.350000</td>\n",
       "      <td>3421500</td>\n",
       "      <td>0.0</td>\n",
       "      <td>0.0</td>\n",
       "    </tr>\n",
       "  </tbody>\n",
       "</table>\n",
       "</div>"
      ],
      "text/plain": [
       "                       Date       Open       High        Low      Close  \\\n",
       "0 2023-03-29 00:00:00-04:00  23.080000  23.700001  22.219999  22.459999   \n",
       "1 2023-03-30 00:00:00-04:00  22.600000  22.830000  22.110001  22.500000   \n",
       "2 2023-03-31 00:00:00-04:00  22.350000  23.070000  22.150000  23.020000   \n",
       "3 2023-04-03 00:00:00-04:00  22.940001  23.850000  22.660000  23.170000   \n",
       "4 2023-04-04 00:00:00-04:00  22.750000  23.139999  22.090000  22.350000   \n",
       "\n",
       "    Volume  Dividends  Stock Splits  \n",
       "0  4161400        0.0           0.0  \n",
       "1  3477600        0.0           0.0  \n",
       "2  3880300        0.0           0.0  \n",
       "3  4274500        0.0           0.0  \n",
       "4  3421500        0.0           0.0  "
      ]
     },
     "execution_count": 90,
     "metadata": {},
     "output_type": "execute_result"
    }
   ],
   "source": [
    "gme_data.reset_index(inplace=True)\n",
    "gme_data.head()"
   ]
  },
  {
   "cell_type": "markdown",
   "id": "9b784619-58be-41de-8e5a-88b698b95cfc",
   "metadata": {},
   "source": [
    "## Question 4 - Extracting GameStop Revenue Data Using Webscraping\n"
   ]
  },
  {
   "cell_type": "code",
   "execution_count": 157,
   "id": "aa4748db-8943-41a7-9ef7-e78f0aabe5df",
   "metadata": {},
   "outputs": [],
   "source": [
    "url = \" https://cf-courses-data.s3.us.cloud-object-storage.appdomain.cloud/IBMDeveloperSkillsNetwork-PY0220EN-SkillsNetwork/labs/project/stock.html\"\n",
    "html_data  = requests.get(url).text"
   ]
  },
  {
   "cell_type": "code",
   "execution_count": 158,
   "id": "17298f1e-142b-4c48-b48d-d7e4d39e52eb",
   "metadata": {},
   "outputs": [],
   "source": [
    "soup = BeautifulSoup(html_data, 'html5lib')"
   ]
  },
  {
   "cell_type": "code",
   "execution_count": 159,
   "id": "08965eaf-483e-463f-ab95-6f40ccd282aa",
   "metadata": {},
   "outputs": [],
   "source": [
    "dic1 = {}\n",
    "#We extract the desired data from the 'soup' object and save it in the dataframe\n",
    "for row in soup.find(\"tbody\").find_all('tr'):\n",
    "    col = row.find_all(\"td\")\n",
    "    date = col[0].text\n",
    "    revenue = col[1].text\n",
    "    dic1[date]=revenue"
   ]
  },
  {
   "cell_type": "code",
   "execution_count": 160,
   "id": "b9cd6406-5de4-4755-8e03-fbe15f089d5c",
   "metadata": {},
   "outputs": [],
   "source": [
    "dict2 = {\"Date\": list(dic1.keys()), \"Revenue\": list(dic1.values())}"
   ]
  },
  {
   "cell_type": "code",
   "execution_count": 161,
   "id": "4a9fa759-6135-47c1-98bf-e6c76bb2015e",
   "metadata": {},
   "outputs": [],
   "source": [
    "gme_revenue = pd.DataFrame.from_dict(dict2)"
   ]
  },
  {
   "cell_type": "code",
   "execution_count": 162,
   "id": "9cd386e3-1f41-439d-8dd4-928438a11a4a",
   "metadata": {},
   "outputs": [
    {
     "data": {
      "text/html": [
       "<div>\n",
       "<style scoped>\n",
       "    .dataframe tbody tr th:only-of-type {\n",
       "        vertical-align: middle;\n",
       "    }\n",
       "\n",
       "    .dataframe tbody tr th {\n",
       "        vertical-align: top;\n",
       "    }\n",
       "\n",
       "    .dataframe thead th {\n",
       "        text-align: right;\n",
       "    }\n",
       "</style>\n",
       "<table border=\"1\" class=\"dataframe\">\n",
       "  <thead>\n",
       "    <tr style=\"text-align: right;\">\n",
       "      <th></th>\n",
       "      <th>Date</th>\n",
       "      <th>Revenue</th>\n",
       "    </tr>\n",
       "  </thead>\n",
       "  <tbody>\n",
       "    <tr>\n",
       "      <th>11</th>\n",
       "      <td>2009</td>\n",
       "      <td>$8,806</td>\n",
       "    </tr>\n",
       "    <tr>\n",
       "      <th>12</th>\n",
       "      <td>2008</td>\n",
       "      <td>$7,094</td>\n",
       "    </tr>\n",
       "    <tr>\n",
       "      <th>13</th>\n",
       "      <td>2007</td>\n",
       "      <td>$5,319</td>\n",
       "    </tr>\n",
       "    <tr>\n",
       "      <th>14</th>\n",
       "      <td>2006</td>\n",
       "      <td>$3,092</td>\n",
       "    </tr>\n",
       "    <tr>\n",
       "      <th>15</th>\n",
       "      <td>2005</td>\n",
       "      <td>$1,843</td>\n",
       "    </tr>\n",
       "  </tbody>\n",
       "</table>\n",
       "</div>"
      ],
      "text/plain": [
       "    Date Revenue\n",
       "11  2009  $8,806\n",
       "12  2008  $7,094\n",
       "13  2007  $5,319\n",
       "14  2006  $3,092\n",
       "15  2005  $1,843"
      ]
     },
     "execution_count": 162,
     "metadata": {},
     "output_type": "execute_result"
    }
   ],
   "source": [
    "gme_revenue.tail()"
   ]
  },
  {
   "cell_type": "code",
   "execution_count": 174,
   "id": "1681f5ab-f7ef-4cb0-9235-fb7a01bda371",
   "metadata": {},
   "outputs": [],
   "source": [
    "from datetime import datetime"
   ]
  },
  {
   "cell_type": "code",
   "execution_count": null,
   "id": "8ffb68ad-a1e7-4d08-8bd5-ba6cecb0a74b",
   "metadata": {},
   "outputs": [],
   "source": [
    "tesla_data=tesla_data[['Date']].to_date\n",
    "tesla_data"
   ]
  },
  {
   "cell_type": "code",
   "execution_count": null,
   "id": "9575e9b6-8bd1-46da-94c1-40a9ac92d638",
   "metadata": {},
   "outputs": [],
   "source": [
    "gme_data=tesla_data"
   ]
  },
  {
   "cell_type": "markdown",
   "id": "ec89b157-443d-42aa-ac5c-9842c58610b0",
   "metadata": {},
   "source": [
    "## Question 5 - Tesla Stock and Revenue Dashboard"
   ]
  },
  {
   "cell_type": "code",
   "execution_count": null,
   "id": "d1e92739-0d46-4e98-883f-88771f253538",
   "metadata": {},
   "outputs": [],
   "source": [
    "make_graph(tesla_data, tesla_revenue, 'Tesla')"
   ]
  },
  {
   "cell_type": "markdown",
   "id": "593be902-d827-4875-8ba9-f3e0c9a2dc0a",
   "metadata": {},
   "source": [
    "\n",
    "## Question 6 - GameStop Stock and Revenue Dashboard"
   ]
  },
  {
   "cell_type": "code",
   "execution_count": null,
   "id": "f6df1bce-e979-4235-ab5d-98661f7ebb10",
   "metadata": {},
   "outputs": [],
   "source": [
    "make_graph(gme_data, gme_revenue, 'GameStop')"
   ]
  }
 ],
 "metadata": {
  "kernelspec": {
   "display_name": "Python 3 (ipykernel)",
   "language": "python",
   "name": "python3"
  },
  "language_info": {
   "codemirror_mode": {
    "name": "ipython",
    "version": 3
   },
   "file_extension": ".py",
   "mimetype": "text/x-python",
   "name": "python",
   "nbconvert_exporter": "python",
   "pygments_lexer": "ipython3",
   "version": "3.10.12"
  }
 },
 "nbformat": 4,
 "nbformat_minor": 5
}
